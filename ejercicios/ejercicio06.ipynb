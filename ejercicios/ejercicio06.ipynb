{
 "cells": [
  {
   "cell_type": "code",
   "execution_count": 1,
   "metadata": {},
   "outputs": [],
   "source": [
    "import grafica_gauss\n",
    "import grafica_arquimedes\n",
    "import imageio"
   ]
  },
  {
   "cell_type": "code",
   "execution_count": 2,
   "metadata": {},
   "outputs": [],
   "source": [
    "filenames = []\n",
    "for n in range(1,50):\n",
    "    grafica_gauss.genera(n)\n",
    "    filenames.append(\"{}.png\".format(n))\n",
    "    \n",
    "with imageio.get_writer(\"pelicula_gauss.gif\", mode=\"I\") as writer:\n",
    "    for filename in filenames :\n",
    "        image = imageio.imread(filename)\n",
    "        writer.append_data(image)"
   ]
  },
  {
   "cell_type": "code",
   "execution_count": 3,
   "metadata": {},
   "outputs": [],
   "source": [
    "filenames = []\n",
    "for n in range(1,100):\n",
    "    grafica_arquimedes.espiral(n)\n",
    "    filenames.append(\"{}.png\".format(n))\n",
    "    \n",
    "with imageio.get_writer(\"pelicula_arquimedes.gif\", mode=\"I\") as writer:\n",
    "    for filename in filenames :\n",
    "        image = imageio.imread(filename)\n",
    "        writer.append_data(image)"
   ]
  }
 ],
 "metadata": {
  "kernelspec": {
   "display_name": "Python 3",
   "language": "python",
   "name": "python3"
  },
  "language_info": {
   "codemirror_mode": {
    "name": "ipython",
    "version": 3
   },
   "file_extension": ".py",
   "mimetype": "text/x-python",
   "name": "python",
   "nbconvert_exporter": "python",
   "pygments_lexer": "ipython3",
   "version": "3.6.8"
  }
 },
 "nbformat": 4,
 "nbformat_minor": 2
}
