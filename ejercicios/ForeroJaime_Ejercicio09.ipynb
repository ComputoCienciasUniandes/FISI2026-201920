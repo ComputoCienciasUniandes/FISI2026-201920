{
 "cells": [
  {
   "cell_type": "code",
   "execution_count": 1,
   "metadata": {},
   "outputs": [],
   "source": [
    "import numpy as np\n",
    "import matplotlib.pyplot as plt\n",
    "import scipy.special as sp\n",
    "%matplotlib inline"
   ]
  },
  {
   "cell_type": "code",
   "execution_count": 2,
   "metadata": {},
   "outputs": [],
   "source": [
    "x = np.linspace(0,20, 100)\n",
    "y = sp.jv(1,x)"
   ]
  },
  {
   "cell_type": "code",
   "execution_count": 3,
   "metadata": {},
   "outputs": [
    {
     "data": {
      "text/plain": [
       "<matplotlib.lines.Line2D at 0x81cdffa20>"
      ]
     },
     "execution_count": 3,
     "metadata": {},
     "output_type": "execute_result"
    },
    {
     "data": {
      "image/png": "[encoded data removed]",
      "text/plain": [
       "<Figure size 432x288 with 1 Axes>"
      ]
     },
     "metadata": {},
     "output_type": "display_data"
    }
   ],
   "source": [
    "plt.title(\"Funcion de Bessel de primer orden\")\n",
    "plt.plot(x,y)\n",
    "plt.grid(True)\n",
    "plt.axhline(y=0, color=\"black\")\n",
    "plt.axvline(x=0, color=\"black\")"
   ]
  },
  {
   "cell_type": "markdown",
   "metadata": {},
   "source": [
    "# Buscando ceros por barrido"
   ]
  },
  {
   "cell_type": "code",
   "execution_count": 4,
   "metadata": {},
   "outputs": [
    {
     "name": "stdout",
     "output_type": "stream",
     "text": [
      "[3.6999999999999993, 6.999999999999997, 10.000000000000002, 13.30000000000001, 16.300000000000015, 19.600000000000023] [ 0.05383399 -0.00468282  0.04347275 -0.00517748  0.03353508 -0.00285657]\n"
     ]
    }
   ],
   "source": [
    "delta_x = 0.3\n",
    "precision = 0.2\n",
    "min_x = 1.0\n",
    "max_x = 20.0\n",
    "\n",
    "x = min_x\n",
    "value = sp.jv(1,x)\n",
    "ceros_barrido = []\n",
    "while x < max_x:\n",
    "    value_x = sp.jv(1,x)\n",
    "    value_delta_x = sp.jv(1,x+delta_x)\n",
    "    if ((value_x * value_delta_x) < 0) and (np.abs(sp.jv(1,x))<precision):\n",
    "        ceros_barrido.append(x)\n",
    "    x = x + delta_x\n",
    "print(ceros_barrido, sp.jv(1,ceros_barrido))"
   ]
  },
  {
   "cell_type": "markdown",
   "metadata": {},
   "source": [
    "# Buscando ceros por biseccion"
   ]
  },
  {
   "cell_type": "code",
   "execution_count": 5,
   "metadata": {},
   "outputs": [
    {
     "name": "stdout",
     "output_type": "stream",
     "text": [
      "Cero en 3.8318359374999993. La funcion vale: -5.234466031372768e-05. Iteraciones: 9\n",
      "Cero en 7.015624999999997. La funcion vale: 1.1503460701482886e-05. Iteraciones: 5\n",
      "Cero en 10.173828125000002. La funcion vale: -8.988965073657894e-05. Iteraciones: 8\n",
      "Cero en 13.32343750000001. La funcion vale: -5.555909265263364e-05. Iteraciones: 6\n",
      "Cero en 16.470898437500015. La funcion vale: -5.272824723450017e-05. Iteraciones: 9\n",
      "Cero en 19.615625000000023. La funcion vale: -4.2046932972201465e-05. Iteraciones: 5\n"
     ]
    }
   ],
   "source": [
    "def f(x):\n",
    "    return sp.jv(1,x)\n",
    "\n",
    "def biseccion(f,a,b):\n",
    "    itera = 0\n",
    "    val_a = f(a)\n",
    "    val_b = f(b)\n",
    "    mid = 0.5*(a+b)\n",
    "    val_mid = f(mid)\n",
    "    precision = 1E-4\n",
    "    while np.abs(val_mid) > precision:\n",
    "        if (val_a * val_mid) > 0:\n",
    "            a = mid\n",
    "        else:\n",
    "            b = mid\n",
    "        val_a = f(a)\n",
    "        val_b = f(b)\n",
    "        mid = 0.5*(a+b)\n",
    "        val_mid = f(mid)\n",
    "        itera += 1\n",
    "    return mid, itera\n",
    "        \n",
    "for c in ceros_barrido:\n",
    "    cero, itera = biseccion(f, c-0.5, c+0.5)\n",
    "    print('Cero en {}. La funcion vale: {}. Iteraciones: {}'.format(cero, sp.jv(1,cero), itera))\n"
   ]
  },
  {
   "cell_type": "markdown",
   "metadata": {},
   "source": [
    "# Buscando ceros por Newton-Raphson"
   ]
  },
  {
   "cell_type": "code",
   "execution_count": 6,
   "metadata": {},
   "outputs": [
    {
     "name": "stdout",
     "output_type": "stream",
     "text": [
      "Cero en 3.8316585136436783. La funcion vale: 1.911369532937799e-05. Iteraciones: 2\n",
      "Cero en 7.015530128291728. La funcion vale: -1.6969070362312608e-05. Iteraciones: 2\n",
      "Cero en 10.173468116915883. La funcion vale: 4.531354223996113e-09. Iteraciones: 3\n",
      "Cero en 13.323606836525345. La funcion vale: -1.8582398777206714e-05. Iteraciones: 2\n",
      "Cero en 16.470630038789412. La funcion vale: 2.3749166172422416e-09. Iteraciones: 3\n",
      "Cero en 19.615785527958646. La funcion vale: -1.314150145414844e-05. Iteraciones: 2\n"
     ]
    }
   ],
   "source": [
    "def f(x):\n",
    "    return sp.jv(1,x)\n",
    "\n",
    "def f_prime(x):\n",
    "    h = 1E-4\n",
    "    return (f(x+h)-f(x))/h\n",
    "\n",
    "def newton_raphson(f,a):\n",
    "    itera = 0\n",
    "    precision = 1E-4\n",
    "    while np.abs(f(a)) > precision:\n",
    "        a = a - f(a)/f_prime(a)\n",
    "        itera += 1\n",
    "    return a, itera\n",
    "        \n",
    "for c in ceros_barrido:\n",
    "    cero, itera = newton_raphson(f, c-0.5)\n",
    "    print('Cero en {}. La funcion vale: {}. Iteraciones: {}'.format(cero, sp.jv(1,cero), itera))\n"
   ]
  }
 ],
 "metadata": {
  "kernelspec": {
   "display_name": "Python 3",
   "language": "python",
   "name": "python3"
  },
  "language_info": {
   "codemirror_mode": {
    "name": "ipython",
    "version": 3
   },
   "file_extension": ".py",
   "mimetype": "text/x-python",
   "name": "python",
   "nbconvert_exporter": "python",
   "pygments_lexer": "ipython3",
   "version": "3.6.8"
  }
 },
 "nbformat": 4,
 "nbformat_minor": 2
}
